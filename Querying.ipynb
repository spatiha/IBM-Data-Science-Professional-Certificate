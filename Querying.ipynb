{
  "nbformat": 4,
  "nbformat_minor": 0,
  "metadata": {
    "kernelspec": {
      "display_name": "Python 3",
      "language": "python",
      "name": "python3"
    },
    "language_info": {
      "codemirror_mode": {
        "name": "ipython",
        "version": 3
      },
      "file_extension": ".py",
      "mimetype": "text/x-python",
      "name": "python",
      "nbconvert_exporter": "python",
      "pygments_lexer": "ipython3",
      "version": "3.7.6"
    },
    "colab": {
      "name": "DB0201EN-Week3-1-2-Querying.ipynb",
      "provenance": [],
      "include_colab_link": true
    }
  },
  "cells": [
    {
      "cell_type": "markdown",
      "metadata": {
        "id": "view-in-github",
        "colab_type": "text"
      },
      "source": [
        "<a href=\"https://colab.research.google.com/github/spatiha/IBM-Data-Science-Professional-Certificate/blob/main/Querying.ipynb\" target=\"_parent\"><img src=\"https://colab.research.google.com/assets/colab-badge.svg\" alt=\"Open In Colab\"/></a>"
      ]
    },
    {
      "cell_type": "markdown",
      "metadata": {
        "id": "KoHR92yS5uNW"
      },
      "source": [
        "<center>\n",
        "    <img src=\"https://s3-api.us-geo.objectstorage.softlayer.net/cf-courses-data/CognitiveClass/Logos/organization_logo/organization_logo.png\" width=\"300\" alt=\"cognitiveclass.ai logo\"  />\n",
        "</center>\n",
        "\n",
        "# Access DB2 on Cloud using Python\n",
        "\n",
        "Estimated time needed: **15** minutes\n",
        "\n",
        "## Objectives\n",
        "\n",
        "After completing this lab you will be able to:\n",
        "\n",
        "*   Create a table\n",
        "*   Insert data into the table\n",
        "*   Query data from the table\n",
        "*   Retrieve the result set into a pandas dataframe\n",
        "*   Close the database connection\n"
      ]
    },
    {
      "cell_type": "markdown",
      "metadata": {
        "id": "XsmwVjuA5uNY"
      },
      "source": [
        "**Notice:** Please follow the instructions given in the first Lab of this course to Create a database service instance of Db2 on Cloud.\n",
        "\n",
        "## Task 1: Import the `ibm_db` Python library\n",
        "\n",
        "The `ibm_db` [API ](https://pypi.python.org/pypi/ibm_db/?utm_medium=Exinfluencer&utm_source=Exinfluencer&utm_content=000026UJ&utm_term=10006555&utm_id=NA-SkillsNetwork-Channel-SkillsNetworkCoursesIBMDeveloperSkillsNetworkDB0201ENSkillsNetwork20127838-2021-01-01) provides a variety of useful Python functions for accessing and manipulating data in an IBM® data server database, including functions for connecting to a database, preparing and issuing SQL statements, fetching rows from result sets, calling stored procedures, committing and rolling back transactions, handling errors, and retrieving metadata.\n",
        "\n",
        "We import the ibm_db library into our Python Application\n"
      ]
    },
    {
      "cell_type": "code",
      "metadata": {
        "colab": {
          "base_uri": "https://localhost:8080/"
        },
        "id": "BUMmUwKn6EUS",
        "outputId": "4163b81d-c5fc-48e0-bad6-2461fb876ec1"
      },
      "source": [
        "pip install ibm_db"
      ],
      "execution_count": 17,
      "outputs": [
        {
          "output_type": "stream",
          "name": "stdout",
          "text": [
            "Requirement already satisfied: ibm_db in /usr/local/lib/python3.7/dist-packages (3.1.0)\n"
          ]
        }
      ]
    },
    {
      "cell_type": "code",
      "metadata": {
        "collapsed": true,
        "id": "v3S8Y0rz5uNg"
      },
      "source": [
        "import ibm_db"
      ],
      "execution_count": 18,
      "outputs": []
    },
    {
      "cell_type": "code",
      "metadata": {
        "colab": {
          "base_uri": "https://localhost:8080/"
        },
        "id": "6NT3pQ2KfyQZ",
        "outputId": "d7ff1098-35e5-43dc-fa95-ffa2aa432518"
      },
      "source": [
        "!pip install sqlalchemy==1.3.9\n",
        "\n",
        "!pip install ibm_db_sa"
      ],
      "execution_count": 19,
      "outputs": [
        {
          "output_type": "stream",
          "name": "stdout",
          "text": [
            "Requirement already satisfied: sqlalchemy==1.3.9 in /usr/local/lib/python3.7/dist-packages (1.3.9)\n",
            "Requirement already satisfied: ibm_db_sa in /usr/local/lib/python3.7/dist-packages (0.3.7)\n",
            "Requirement already satisfied: ibm-db>=2.0.0 in /usr/local/lib/python3.7/dist-packages (from ibm_db_sa) (3.1.0)\n",
            "Requirement already satisfied: sqlalchemy>=0.7.3 in /usr/local/lib/python3.7/dist-packages (from ibm_db_sa) (1.3.9)\n"
          ]
        }
      ]
    },
    {
      "cell_type": "markdown",
      "metadata": {
        "id": "lQMO1Rc95uNh"
      },
      "source": [
        "When the command above completes, the `ibm_db` library is loaded in your notebook.\n",
        "\n",
        "## Task 2: Identify the database connection credentials\n",
        "\n",
        "Connecting to dashDB or DB2 database requires the following information:\n",
        "\n",
        "*   Driver Name\n",
        "*   Database name\n",
        "*   Host DNS name or IP address\n",
        "*   Host port\n",
        "*   Connection protocol\n",
        "*   User ID\n",
        "*   User Password\n",
        "\n",
        "**Notice:** To obtain credentials please refer to the instructions given in the first Lab of this course\n",
        "\n",
        "Now enter your database credentials below\n",
        "\n",
        "Replace the placeholder values in angular brackets <> below with your actual database credentials\n",
        "\n",
        "e.g. replace \"database\" with \"BLUDB\"\n"
      ]
    },
    {
      "cell_type": "code",
      "metadata": {
        "collapsed": true,
        "id": "0BYDVRQL5uNi"
      },
      "source": [
        "#Replace the placeholder values with the actuals for your Db2 Service Credentials\n",
        "dsn_hostname = \"ba99a9e6-d59e-4883-8fc0-d6a8c9f7a08f.c1ogj3sd0tgtu0lqde00.databases.appdomain.cloud\" # e.g.: \"54a2f15b-5c0f-46df-8954-7e38e612c2bd.c1ogj3sd0tgtu0lqde00.databases.appdomain.cloud\"\n",
        "dsn_uid = \"nhk12903\"        # e.g. \"abc12345\"\n",
        "dsn_pwd = \"2Y0VNsQvJQ46TmUe\"      # e.g. \"7dBZ3wWt9XN6$o0J\"\n",
        "dsn_driver = \"{IBM DB2 ODBC DRIVER}\"\n",
        "dsn_database = \"bludb\"            # e.g. \"BLUDB\"\n",
        "dsn_port = \"31321\"                # e.g. \"32733\" \n",
        "dsn_protocol = \"TCPIP\"            # i.e. \"TCPIP\"\n",
        "dsn_security = \"SSL\"              #i.e. \"SSL\""
      ],
      "execution_count": 20,
      "outputs": []
    },
    {
      "cell_type": "markdown",
      "metadata": {
        "id": "MbgyWk-g5uNi"
      },
      "source": [
        "## Task 3: Create the database connection\n",
        "\n",
        "Ibm_db API uses the IBM Data Server Driver for ODBC and CLI APIs to connect to IBM DB2 and Informix.\n",
        "\n",
        "Create the database connection\n"
      ]
    },
    {
      "cell_type": "code",
      "metadata": {
        "colab": {
          "base_uri": "https://localhost:8080/"
        },
        "id": "nrmvyaJS5uNj",
        "outputId": "454ec65d-f361-45a2-f551-49f806ee61b0"
      },
      "source": [
        "#Create database connection\n",
        "#DO NOT MODIFY THIS CELL. Just RUN it with Shift + Enter\n",
        "dsn = (\n",
        "    \"DRIVER={0};\"\n",
        "    \"DATABASE={1};\"\n",
        "    \"HOSTNAME={2};\"\n",
        "    \"PORT={3};\"\n",
        "    \"PROTOCOL={4};\"\n",
        "    \"UID={5};\"\n",
        "    \"PWD={6};\"\n",
        "    \"SECURITY={7};\").format(dsn_driver, dsn_database, dsn_hostname, dsn_port, dsn_protocol, dsn_uid, dsn_pwd,dsn_security)\n",
        "\n",
        "try:\n",
        "    conn = ibm_db.connect(dsn, \"\", \"\")\n",
        "    print (\"Connected to database: \", dsn_database, \"as user: \", dsn_uid, \"on host: \", dsn_hostname)\n",
        "\n",
        "except:\n",
        "    print (\"Unable to connect: \", ibm_db.conn_errormsg() )\n"
      ],
      "execution_count": 21,
      "outputs": [
        {
          "output_type": "stream",
          "name": "stdout",
          "text": [
            "Connected to database:  bludb as user:  nhk12903 on host:  ba99a9e6-d59e-4883-8fc0-d6a8c9f7a08f.c1ogj3sd0tgtu0lqde00.databases.appdomain.cloud\n"
          ]
        }
      ]
    },
    {
      "cell_type": "markdown",
      "metadata": {
        "id": "s05dnKcc5uNj"
      },
      "source": [
        "## Task 4: Create a table in the database\n",
        "\n",
        "In this step we will create a table in the database with following details:\n",
        "\n",
        "<img src = \"https://ibm.box.com/shared/static/ztd2cn4xkdoj5erlk4hhng39kbp63s1h.jpg\" align=\"center\">\n"
      ]
    },
    {
      "cell_type": "code",
      "metadata": {
        "id": "_kEolmhP5uNj"
      },
      "source": [
        "#Lets first drop the table INSTRUCTOR in case it exists from a previous attempt\n",
        "dropQuery = \"drop table INSTRUCTOR\"\n",
        "\n",
        "#Now execute the drop statment\n",
        "dropStmt = ibm_db.exec_immediate(conn, dropQuery)"
      ],
      "execution_count": 22,
      "outputs": []
    },
    {
      "cell_type": "markdown",
      "metadata": {
        "id": "o-LTt4mt5uNk"
      },
      "source": [
        "## Dont worry if you get this error:\n",
        "\n",
        "If you see an exception/error similar to the following, indicating that INSTRUCTOR is an undefined name, that's okay. It just implies that the INSTRUCTOR table does not exist in the table - which would be the case if you had not created it previously.\n",
        "\n",
        "Exception: \\[IBM]\\[CLI Driver]\\[DB2/LINUXX8664] SQL0204N  \"ABC12345.INSTRUCTOR\" is an undefined name.  SQLSTATE=42704 SQLCODE=-204\n"
      ]
    },
    {
      "cell_type": "code",
      "metadata": {
        "id": "WQH0JpqA5uNk"
      },
      "source": [
        "#Construct the Create Table DDL statement - replace the ... with rest of the statement\n",
        "createQuery = \"create table INSTRUCTOR(ID INTEGER PRIMARY KEY NOT NULL, FNAME VARCHAR(20), LNAME VARCHAR(20), CITY VARCHAR(20), CCODE CHAR(2))\"\n",
        "\n",
        "#Now fill in the name of the method and execute the statement\n",
        "createStmt = ibm_db.exec_immediate(conn,createQuery)"
      ],
      "execution_count": 23,
      "outputs": []
    },
    {
      "cell_type": "markdown",
      "metadata": {
        "id": "GK6vTh8t5uNk"
      },
      "source": [
        "<details><summary>Click here for the solution</summary>\n",
        "\n",
        "```python\n",
        "createQuery = \"create table INSTRUCTOR(ID INTEGER PRIMARY KEY NOT NULL, FNAME VARCHAR(20), LNAME VARCHAR(20), CITY VARCHAR(20), CCODE CHAR(2))\"\n",
        "\n",
        "createStmt = ibm_db.exec_immediate(conn,createQuery)\n",
        "```\n",
        "\n",
        "</details>\n"
      ]
    },
    {
      "cell_type": "markdown",
      "metadata": {
        "id": "t4WJvBAN5uNl"
      },
      "source": [
        "## Task 5: Insert data into the table\n",
        "\n",
        "In this step we will insert some rows of data into the table.\n",
        "\n",
        "The INSTRUCTOR table we created in the previous step contains 3 rows of data:\n",
        "\n",
        "<img src=\"https://ibm.box.com/shared/static/j5yjassxefrjknivfpekj7698dqe4d8i.jpg\" align=\"center\">\n",
        "\n",
        "We will start by inserting just the first row of data, i.e. for instructor Rav Ahuja\n"
      ]
    },
    {
      "cell_type": "code",
      "metadata": {
        "id": "fw5-DGRu5uNl"
      },
      "source": [
        "#Construct the query - replace ... with the insert statement\n",
        "insertQuery = \"INSERT INTO INSTRUCTOR VALUES (1, 'Rav', 'Ahuja', 'TORONTO', 'CA')\"\n",
        "\n",
        "#execute the insert statement\n",
        "insertStmt = ibm_db.exec_immediate(conn, insertQuery)"
      ],
      "execution_count": 25,
      "outputs": []
    },
    {
      "cell_type": "markdown",
      "metadata": {
        "id": "JyIpsjKP5uNl"
      },
      "source": [
        "<details><summary>Click here for the solution</summary>\n",
        "\n",
        "```python\n",
        "insertQuery = \"insert into INSTRUCTOR values (1, 'Rav', 'Ahuja', 'TORONTO', 'CA')\"\n",
        "\n",
        "insertStmt = ibm_db.exec_immediate(conn, insertQuery)\n",
        "```\n",
        "\n",
        "</details>\n"
      ]
    },
    {
      "cell_type": "markdown",
      "metadata": {
        "id": "EB3uGiVa5uNl"
      },
      "source": [
        "Now use a single query to insert the remaining two rows of data\n"
      ]
    },
    {
      "cell_type": "code",
      "metadata": {
        "id": "JIpvKCHx5uNm"
      },
      "source": [
        "#replace ... with the insert statement that inerts the remaining two rows of data\n",
        "insertQuery2 = \"INSERT INTO INSTRUCTOR VALUES (2, 'Raul', 'Chong', 'Markham', 'CA'), (3, 'Hima', 'Vasudevan', 'Chicago', 'US')\"\n",
        "\n",
        "#execute the statement\n",
        "insertStmt2 = ibm_db.exec_immediate(conn, insertQuery2)"
      ],
      "execution_count": 27,
      "outputs": []
    },
    {
      "cell_type": "markdown",
      "metadata": {
        "id": "iTybsgF35uNm"
      },
      "source": [
        "<details><summary>Click here for the solution</summary>\n",
        "\n",
        "```python\n",
        "insertQuery2 = \"insert into INSTRUCTOR values (2, 'Raul', 'Chong', 'Markham', 'CA'), (3, 'Hima', 'Vasudevan', 'Chicago', 'US')\"\n",
        "\n",
        "insertStmt2 = ibm_db.exec_immediate(conn, insertQuery2)\n",
        "\n",
        "```\n",
        "\n",
        "</details>\n"
      ]
    },
    {
      "cell_type": "markdown",
      "metadata": {
        "id": "DX89ywNp5uNm"
      },
      "source": [
        "## Task 6: Query data in the table\n",
        "\n",
        "In this step we will retrieve data we inserted into the INSTRUCTOR table.\n"
      ]
    },
    {
      "cell_type": "code",
      "metadata": {
        "colab": {
          "base_uri": "https://localhost:8080/"
        },
        "id": "uh1kdKIy5uNm",
        "outputId": "66d448e9-cdb6-4315-cfae-e86a49d091c3"
      },
      "source": [
        "#Construct the query that retrieves all rows from the INSTRUCTOR table\n",
        "selectQuery = \"select * from INSTRUCTOR\"\n",
        "\n",
        "#Execute the statement\n",
        "selectStmt = ibm_db.exec_immediate(conn, selectQuery)\n",
        "\n",
        "#Fetch the Dictionary (for the first row only) - replace ... with your code\n",
        "ibm_db.fetch_both(selectStmt)"
      ],
      "execution_count": 28,
      "outputs": [
        {
          "output_type": "execute_result",
          "data": {
            "text/plain": [
              "{0: 1,\n",
              " 1: 'Rav',\n",
              " 2: 'Ahuja',\n",
              " 3: 'TORONTO',\n",
              " 4: 'CA',\n",
              " 'CCODE': 'CA',\n",
              " 'CITY': 'TORONTO',\n",
              " 'FNAME': 'Rav',\n",
              " 'ID': 1,\n",
              " 'LNAME': 'Ahuja'}"
            ]
          },
          "metadata": {},
          "execution_count": 28
        }
      ]
    },
    {
      "cell_type": "markdown",
      "metadata": {
        "id": "1t8VVI-M5uNn"
      },
      "source": [
        "<details><summary>Click here for the solution</summary>\n",
        "\n",
        "```python\n",
        "#Construct the query that retrieves all rows from the INSTRUCTOR table\n",
        "selectQuery = \"select * from INSTRUCTOR\"\n",
        "\n",
        "#Execute the statement\n",
        "selectStmt = ibm_db.exec_immediate(conn, selectQuery)\n",
        "\n",
        "#Fetch the Dictionary (for the first row only)\n",
        "ibm_db.fetch_both(selectStmt)\n",
        "\n",
        "```\n",
        "\n",
        "</details>\n"
      ]
    },
    {
      "cell_type": "code",
      "metadata": {
        "colab": {
          "base_uri": "https://localhost:8080/"
        },
        "id": "nsKocupr5uNn",
        "outputId": "d04a2e87-69b2-4333-ca61-2fbb35b3fff0"
      },
      "source": [
        "#Fetch the rest of the rows and print the ID and FNAME for those rows\n",
        "while ibm_db.fetch_row(selectStmt) != False:\n",
        "   print (\" ID:\",  ibm_db.result(selectStmt, 0), \" FNAME:\",  ibm_db.result(selectStmt, \"FNAME\"))"
      ],
      "execution_count": 29,
      "outputs": [
        {
          "output_type": "stream",
          "name": "stdout",
          "text": [
            " ID: 2  FNAME: Raul\n",
            " ID: 3  FNAME: Hima\n"
          ]
        }
      ]
    },
    {
      "cell_type": "markdown",
      "metadata": {
        "id": "r6MfPTmU5uNn"
      },
      "source": [
        "<details><summary>Click here for the solution</summary>\n",
        "\n",
        "```python\n",
        "#Fetch the rest of the rows and print the ID and FNAME for those rows\n",
        "while ibm_db.fetch_row(selectStmt) != False:\n",
        "    print (\" ID:\",  ibm_db.result(selectStmt, 0), \" FNAME:\",  ibm_db.result(selectStmt, \"FNAME\"))\n",
        "\n",
        "```\n",
        "\n",
        "</details>\n"
      ]
    },
    {
      "cell_type": "markdown",
      "metadata": {
        "id": "_aXIqfHp5uNn"
      },
      "source": [
        "Bonus: now write and execute an update statement that changes the Rav's CITY to MOOSETOWN\n"
      ]
    },
    {
      "cell_type": "code",
      "metadata": {
        "id": "--wEABWB5uNn"
      },
      "source": [
        "#Enter your code below\n",
        "updateQuery = \"UPDATE INSTRUCTOR SET CITY='MOOSETOWN' WHERE FNAME='RAV'\"\n",
        "updateStmt = ibm_db.exec_immediate(conn, updateQuery)"
      ],
      "execution_count": 32,
      "outputs": []
    },
    {
      "cell_type": "markdown",
      "metadata": {
        "id": "L7bZgS4W5uNo"
      },
      "source": [
        "<details><summary>Click here for the solution</summary>\n",
        "\n",
        "```python\n",
        "updateQuery = \"update INSTRUCTOR set CITY='MOOSETOWN' where FNAME='Rav'\"\n",
        "updateStmt = ibm_db.exec_immediate(conn, updateQuery))\n",
        "\n",
        "```\n",
        "\n",
        "</details>\n"
      ]
    },
    {
      "cell_type": "markdown",
      "metadata": {
        "id": "2O6JrYZi5uNo"
      },
      "source": [
        "## Task 7: Retrieve data into Pandas\n",
        "\n",
        "In this step we will retrieve the contents of the INSTRUCTOR table into a Pandas dataframe\n"
      ]
    },
    {
      "cell_type": "code",
      "metadata": {
        "collapsed": true,
        "id": "QhsEbip-5uNo"
      },
      "source": [
        "import pandas\n",
        "import ibm_db_dbi"
      ],
      "execution_count": 33,
      "outputs": []
    },
    {
      "cell_type": "code",
      "metadata": {
        "collapsed": true,
        "id": "xx6PUs_X5uNo"
      },
      "source": [
        "#connection for pandas\n",
        "pconn = ibm_db_dbi.Connection(conn)"
      ],
      "execution_count": 34,
      "outputs": []
    },
    {
      "cell_type": "code",
      "metadata": {
        "colab": {
          "base_uri": "https://localhost:8080/",
          "height": 35
        },
        "id": "Tt61PZnI5uNo",
        "outputId": "4e214d9d-ad96-4dcd-ed2d-096cdafdb660"
      },
      "source": [
        "#query statement to retrieve all rows in INSTRUCTOR table\n",
        "selectQuery = \"select * from INSTRUCTOR\"\n",
        "\n",
        "#retrieve the query results into a pandas dataframe\n",
        "pdf = pandas.read_sql(selectQuery, pconn)\n",
        "\n",
        "#print just the LNAME for first row in the pandas data frame\n",
        "pdf.LNAME[0]"
      ],
      "execution_count": 35,
      "outputs": [
        {
          "output_type": "execute_result",
          "data": {
            "application/vnd.google.colaboratory.intrinsic+json": {
              "type": "string"
            },
            "text/plain": [
              "'Ahuja'"
            ]
          },
          "metadata": {},
          "execution_count": 35
        }
      ]
    },
    {
      "cell_type": "code",
      "metadata": {
        "colab": {
          "base_uri": "https://localhost:8080/",
          "height": 142
        },
        "id": "27vnOlwY5uNp",
        "outputId": "6cd11155-98bd-42f6-a236-a1f5908e4658"
      },
      "source": [
        "#print the entire data frame\n",
        "pdf"
      ],
      "execution_count": 36,
      "outputs": [
        {
          "output_type": "execute_result",
          "data": {
            "text/html": [
              "<div>\n",
              "<style scoped>\n",
              "    .dataframe tbody tr th:only-of-type {\n",
              "        vertical-align: middle;\n",
              "    }\n",
              "\n",
              "    .dataframe tbody tr th {\n",
              "        vertical-align: top;\n",
              "    }\n",
              "\n",
              "    .dataframe thead th {\n",
              "        text-align: right;\n",
              "    }\n",
              "</style>\n",
              "<table border=\"1\" class=\"dataframe\">\n",
              "  <thead>\n",
              "    <tr style=\"text-align: right;\">\n",
              "      <th></th>\n",
              "      <th>ID</th>\n",
              "      <th>FNAME</th>\n",
              "      <th>LNAME</th>\n",
              "      <th>CITY</th>\n",
              "      <th>CCODE</th>\n",
              "    </tr>\n",
              "  </thead>\n",
              "  <tbody>\n",
              "    <tr>\n",
              "      <th>0</th>\n",
              "      <td>1</td>\n",
              "      <td>Rav</td>\n",
              "      <td>Ahuja</td>\n",
              "      <td>TORONTO</td>\n",
              "      <td>CA</td>\n",
              "    </tr>\n",
              "    <tr>\n",
              "      <th>1</th>\n",
              "      <td>2</td>\n",
              "      <td>Raul</td>\n",
              "      <td>Chong</td>\n",
              "      <td>Markham</td>\n",
              "      <td>CA</td>\n",
              "    </tr>\n",
              "    <tr>\n",
              "      <th>2</th>\n",
              "      <td>3</td>\n",
              "      <td>Hima</td>\n",
              "      <td>Vasudevan</td>\n",
              "      <td>Chicago</td>\n",
              "      <td>US</td>\n",
              "    </tr>\n",
              "  </tbody>\n",
              "</table>\n",
              "</div>"
            ],
            "text/plain": [
              "   ID FNAME      LNAME     CITY CCODE\n",
              "0   1   Rav      Ahuja  TORONTO    CA\n",
              "1   2  Raul      Chong  Markham    CA\n",
              "2   3  Hima  Vasudevan  Chicago    US"
            ]
          },
          "metadata": {},
          "execution_count": 36
        }
      ]
    },
    {
      "cell_type": "markdown",
      "metadata": {
        "id": "wUxxCVH75uNp"
      },
      "source": [
        "Once the data is in a Pandas dataframe, you can do the typical pandas operations on it.\n",
        "\n",
        "For example you can use the shape method to see how many rows and columns are in the dataframe\n"
      ]
    },
    {
      "cell_type": "code",
      "metadata": {
        "colab": {
          "base_uri": "https://localhost:8080/"
        },
        "id": "sYQs4QD45uNp",
        "outputId": "9e9b194d-2cac-4345-9cf7-c1b1ea191a51"
      },
      "source": [
        "pdf.shape"
      ],
      "execution_count": 37,
      "outputs": [
        {
          "output_type": "execute_result",
          "data": {
            "text/plain": [
              "(3, 5)"
            ]
          },
          "metadata": {},
          "execution_count": 37
        }
      ]
    },
    {
      "cell_type": "markdown",
      "metadata": {
        "id": "nISZReny5uNp"
      },
      "source": [
        "## Task 8: Close the Connection\n",
        "\n",
        "We free all resources by closing the connection. Remember that it is always important to close connections so that we can avoid unused connections taking up resources.\n"
      ]
    },
    {
      "cell_type": "code",
      "metadata": {
        "colab": {
          "base_uri": "https://localhost:8080/"
        },
        "id": "QEzqlGJk5uNp",
        "outputId": "7cb30f69-14dd-49b6-e229-e2ad28bc3a33"
      },
      "source": [
        "ibm_db.close(conn)"
      ],
      "execution_count": 38,
      "outputs": [
        {
          "output_type": "execute_result",
          "data": {
            "text/plain": [
              "True"
            ]
          },
          "metadata": {},
          "execution_count": 38
        }
      ]
    },
    {
      "cell_type": "markdown",
      "metadata": {
        "id": "IhV0DzxH5uNp"
      },
      "source": [
        "## Summary\n",
        "\n",
        "In this tutorial you established a connection to a database instance of DB2 Warehouse on Cloud from a Python notebook using ibm_db API. Then created a table and insert a few rows of data into it. Then queried the data. You also retrieved the data into a pandas dataframe.\n"
      ]
    },
    {
      "cell_type": "markdown",
      "metadata": {
        "id": "ffRDn7Yc5uNq"
      },
      "source": [
        "## Author\n",
        "\n",
        "<a href=\"https://www.linkedin.com/in/ravahuja/?utm_medium=Exinfluencer&utm_source=Exinfluencer&utm_content=000026UJ&utm_term=10006555&utm_id=NA-SkillsNetwork-Channel-SkillsNetworkCoursesIBMDeveloperSkillsNetworkDB0201ENSkillsNetwork20127838-2021-01-01\" target=\"_blank\">Rav Ahuja</a>\n",
        "\n",
        "## Change Log\n",
        "\n",
        "| Date (YYYY-MM-DD) | Version | Changed By | Change Description                 |\n",
        "| ----------------- | ------- | ---------- | ---------------------------------- |\n",
        "| 2021-07-09        | 2.1     | Malika     | Updated connection string          |\n",
        "| 2020-08-28        | 2.0     | Lavanya    | Moved lab to course repo in GitLab |\n",
        "\n",
        "<hr>\n",
        "\n",
        "## <h3 align=\"center\"> © IBM Corporation 2020. All rights reserved. <h3/>\n"
      ]
    }
  ]
}